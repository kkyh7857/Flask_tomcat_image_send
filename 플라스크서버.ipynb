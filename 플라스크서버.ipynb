{
 "cells": [
  {
   "cell_type": "code",
   "execution_count": 1,
   "id": "7287a120",
   "metadata": {},
   "outputs": [],
   "source": [
    "import base64\n",
    "import json\n",
    "import requests as req\n",
    "from flask import Flask, redirect, make_response"
   ]
  },
  {
   "cell_type": "markdown",
   "id": "a72d2c58",
   "metadata": {},
   "source": [
    "### host : 172.30.1.20:8090/FlaskTest/ImageSaveService"
   ]
  },
  {
   "cell_type": "markdown",
   "id": "503d9c23",
   "metadata": {},
   "source": [
    "# img폴더 내 이미지파일명 접근 및 딕셔너리화"
   ]
  },
  {
   "cell_type": "code",
   "execution_count": 67,
   "id": "52dd7e1e",
   "metadata": {},
   "outputs": [],
   "source": [
    "import os\n",
    "\n",
    "imgFiles = []\n",
    "files = {}\n",
    "\n",
    "if os.path.isdir('img') == True:\n",
    "    imgFiles = os.listdir('img')\n",
    "       \n",
    "for i in range(len(imgFiles)):\n",
    "    files['file{}'.format(i+1)] = open('img/{}'.format(imgFiles[i]), 'rb')"
   ]
  },
  {
   "cell_type": "code",
   "execution_count": 68,
   "id": "97598b79",
   "metadata": {},
   "outputs": [
    {
     "data": {
      "text/plain": [
       "{'file1': <_io.BufferedReader name='img/cat.jpg'>,\n",
       " 'file2': <_io.BufferedReader name='img/cat2.jpg'>,\n",
       " 'file3': <_io.BufferedReader name='img/cat3.jpg'>,\n",
       " 'file4': <_io.BufferedReader name='img/cat4.jpg'>,\n",
       " 'file5': <_io.BufferedReader name='img/cat5.jpg'>}"
      ]
     },
     "execution_count": 68,
     "metadata": {},
     "output_type": "execute_result"
    }
   ],
   "source": [
    "files"
   ]
  },
  {
   "cell_type": "markdown",
   "id": "08df9014",
   "metadata": {},
   "source": [
    "# Tomcat서버로 이미지파일 전송"
   ]
  },
  {
   "cell_type": "code",
   "execution_count": 69,
   "id": "09430f06",
   "metadata": {},
   "outputs": [
    {
     "name": "stdout",
     "output_type": "stream",
     "text": [
      " * Serving Flask app \"__main__\" (lazy loading)\n",
      " * Environment: production\n",
      "   WARNING: This is a development server. Do not use it in a production deployment.\n",
      "   Use a production WSGI server instead.\n",
      " * Debug mode: off\n"
     ]
    },
    {
     "name": "stderr",
     "output_type": "stream",
     "text": [
      " * Running on http://127.0.0.1:3000/ (Press CTRL+C to quit)\n",
      "127.0.0.1 - - [18/Dec/2021 12:53:42] \"\u001b[37mGET /imageSave HTTP/1.1\u001b[0m\" 200 -\n"
     ]
    }
   ],
   "source": [
    "app = Flask(__name__)\n",
    "\n",
    "@app.route('/imageSave')\n",
    "def index():  \n",
    "    \n",
    "    server_url = 'http://220.71.97.232:8087/FlaskImageTest/ImageSaveService2'\n",
    "\n",
    "    res = req.post(server_url, files=files)\n",
    "        \n",
    "    return 'success' if res.status_code == 200 else 'fail'\n",
    "\n",
    "app.run(host = '127.0.0.1', port=3000)"
   ]
  }
 ],
 "metadata": {
  "kernelspec": {
   "display_name": "Python 3",
   "language": "python",
   "name": "python3"
  },
  "language_info": {
   "codemirror_mode": {
    "name": "ipython",
    "version": 3
   },
   "file_extension": ".py",
   "mimetype": "text/x-python",
   "name": "python",
   "nbconvert_exporter": "python",
   "pygments_lexer": "ipython3",
   "version": "3.8.8"
  }
 },
 "nbformat": 4,
 "nbformat_minor": 5
}
